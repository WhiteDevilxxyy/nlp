{
 "cells": [
  {
   "cell_type": "code",
   "execution_count": 5,
   "metadata": {
    "colab": {
     "base_uri": "https://localhost:8080/",
     "height": 1000
    },
    "id": "785KoOxTRSaR",
    "outputId": "7afd20b4-a36e-469b-b7c8-da82ab09557e"
   },
   "outputs": [
    {
     "name": "stdout",
     "output_type": "stream",
     "text": [
      "[nltk_data] Downloading package words to\n",
      "[nltk_data]     C:\\Users\\HP\\AppData\\Roaming\\nltk_data...\n",
      "[nltk_data]   Unzipping corpora\\words.zip.\n",
      "generate word: symphysion\n"
     ]
    }
   ],
   "source": [
    "import nltk \n",
    "import random \n",
    "nltk.download(\"words\") \n",
    "from nltk.corpus import words \n",
    "word_list=words.words() \n",
    "def generate_word(length): \n",
    "    word=random.choice(word_list) \n",
    "    while len(word)!=length: \n",
    "        word=random.choice(word_list) \n",
    "    return word \n",
    "word_length=int(input(\"enter the length of word\")) \n",
    "generated_word=generate_word(word_length) \n",
    "print(\"generate word:\",generated_word) "
   ]
  },
  {
   "cell_type": "code",
   "execution_count": null,
   "metadata": {
    "colab": {
     "base_uri": "https://localhost:8080/"
    },
    "id": "cddy4pLXRcrT",
    "outputId": "7e5f9f2d-786c-4913-f3ff-7b54c4336058"
   },
   "outputs": [],
   "source": []
  },
  {
   "cell_type": "code",
   "execution_count": null,
   "metadata": {},
   "outputs": [],
   "source": []
  }
 ],
 "metadata": {
  "colab": {
   "provenance": []
  },
  "kernelspec": {
   "display_name": "Python 3 (ipykernel)",
   "language": "python",
   "name": "python3"
  },
  "language_info": {
   "codemirror_mode": {
    "name": "ipython",
    "version": 3
   },
   "file_extension": ".py",
   "mimetype": "text/x-python",
   "name": "python",
   "nbconvert_exporter": "python",
   "pygments_lexer": "ipython3",
   "version": "3.8.10"
  }
 },
 "nbformat": 4,
 "nbformat_minor": 1
}
