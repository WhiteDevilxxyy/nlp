{
  "cells": [
    {
      "cell_type": "code",
      "execution_count": 1,
      "metadata": {
        "id": "llGQnAZ6Sk19"
      },
      "outputs": [
        {
          "name": "stderr",
          "output_type": "stream",
          "text": [
            "d:\\Program Files\\python\\lib\\site-packages\\nltk\\twitter\\__init__.py:20: UserWarning: The twython library has not been installed. Some functionality from the twitter package will not be available.\n",
            "  warnings.warn(\"The twython library has not been installed. \"\n"
          ]
        }
      ],
      "source": [
        "import nltk\n",
        "import nltk.sentiment.sentiment_analyzer\n",
        "import nltk.sentiment.util"
      ]
    },
    {
      "cell_type": "code",
      "execution_count": null,
      "metadata": {},
      "outputs": [],
      "source": []
    },
    {
      "cell_type": "code",
      "execution_count": 2,
      "metadata": {
        "id": "lP577P_ESqLC"
      },
      "outputs": [],
      "source": [
        "def wordBasedSentiment():\n",
        "    positive_words = ['love', 'hope', 'joy']\n",
        "    text = 'Rainfall this year brings lot of hope and joy to Farmers.'.split()\n",
        "    analysis = nltk.sentiment.util.extract_unigram_feats(text, positive_words)\n",
        "    print(' -- single word sentiment --')\n",
        "    print(analysis)"
      ]
    },
    {
      "cell_type": "code",
      "execution_count": 3,
      "metadata": {
        "colab": {
          "base_uri": "https://localhost:8080/"
        },
        "id": "3TqGkfXXSsHB",
        "outputId": "937bc32c-ce4c-4ed4-de58-5817d7b67adc"
      },
      "outputs": [
        {
          "name": "stdout",
          "output_type": "stream",
          "text": [
            " -- single word sentiment --\n",
            "{'contains(love)': False, 'contains(hope)': True, 'contains(joy)': True}\n"
          ]
        }
      ],
      "source": [
        "wordBasedSentiment()"
      ]
    },
    {
      "cell_type": "code",
      "execution_count": 4,
      "metadata": {
        "id": "9sN2teYFSubR"
      },
      "outputs": [],
      "source": [
        "def multiWordBasedSentiment():\n",
        "    word_sets = [('heavy', 'rains'), ('flood', 'bengaluru')]\n",
        "    text = 'heavy rains cause flash flooding in bengaluru'.split()\n",
        "    analysis = nltk.sentiment.util.extract_bigram_feats(text, word_sets)\n",
        "    print(' -- multi word sentiment --')\n",
        "    print(analysis)"
      ]
    },
    {
      "cell_type": "code",
      "execution_count": 5,
      "metadata": {
        "colab": {
          "base_uri": "https://localhost:8080/"
        },
        "id": "FHoii3KOSwOJ",
        "outputId": "c53932ff-a08e-45f6-b642-4f9d77fe1191"
      },
      "outputs": [
        {
          "name": "stdout",
          "output_type": "stream",
          "text": [
            " -- multi word sentiment --\n",
            "{'contains(heavy - rains)': True, 'contains(flood - bengaluru)': False}\n"
          ]
        }
      ],
      "source": [
        "multiWordBasedSentiment()"
      ]
    },
    {
      "cell_type": "code",
      "execution_count": 6,
      "metadata": {
        "id": "Ycd11pOmSx2B"
      },
      "outputs": [],
      "source": [
        "def markNegativity():\n",
        "    text = 'Rainfall last year did not bring joy to Farmers'.split()\n",
        "    negation = nltk.sentiment.util.mark_negation(text)\n",
        "    print(' -- negativity --')\n",
        "    print(negation)"
      ]
    },
    {
      "cell_type": "code",
      "execution_count": 7,
      "metadata": {
        "colab": {
          "base_uri": "https://localhost:8080/"
        },
        "id": "EPoMGuqLSzlI",
        "outputId": "dd5ac364-9838-439f-8a57-22f7f891e79d"
      },
      "outputs": [
        {
          "name": "stdout",
          "output_type": "stream",
          "text": [
            " -- negativity --\n",
            "['Rainfall', 'last', 'year', 'did', 'not', 'bring_NEG', 'joy_NEG', 'to_NEG', 'Farmers_NEG']\n"
          ]
        }
      ],
      "source": [
        "markNegativity()"
      ]
    },
    {
      "cell_type": "code",
      "execution_count": 8,
      "metadata": {
        "colab": {
          "base_uri": "https://localhost:8080/"
        },
        "id": "Ll_NBV3QS1xx",
        "outputId": "8083b245-48a1-4550-d92a-3d749b69eb72"
      },
      "outputs": [
        {
          "name": "stdout",
          "output_type": "stream",
          "text": [
            " -- single word sentiment --\n",
            "{'contains(love)': False, 'contains(hope)': True, 'contains(joy)': True}\n",
            " -- multi word sentiment --\n",
            "{'contains(heavy - rains)': True, 'contains(flood - bengaluru)': False}\n",
            " -- negativity --\n",
            "['Rainfall', 'last', 'year', 'did', 'not', 'bring_NEG', 'joy_NEG', 'to_NEG', 'Farmers_NEG']\n"
          ]
        }
      ],
      "source": [
        "wordBasedSentiment()\n",
        "multiWordBasedSentiment()\n",
        "markNegativity()"
      ]
    },
    {
      "cell_type": "code",
      "execution_count": 17,
      "metadata": {
        "id": "mxF1L41_T8nh"
      },
      "outputs": [],
      "source": []
    }
  ],
  "metadata": {
    "colab": {
      "provenance": []
    },
    "kernelspec": {
      "display_name": "Python 3",
      "name": "python3"
    },
    "language_info": {
      "codemirror_mode": {
        "name": "ipython",
        "version": 3
      },
      "file_extension": ".py",
      "mimetype": "text/x-python",
      "name": "python",
      "nbconvert_exporter": "python",
      "pygments_lexer": "ipython3",
      "version": "3.8.10"
    }
  },
  "nbformat": 4,
  "nbformat_minor": 0
}
