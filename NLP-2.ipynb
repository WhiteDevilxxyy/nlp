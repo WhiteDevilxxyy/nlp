{
 "cells": [
  {
   "cell_type": "code",
   "execution_count": 1,
   "metadata": {
    "id": "iLVFYFuKC8ja"
   },
   "outputs": [],
   "source": [
    "\n",
    "import spacy\n",
    "en = spacy.load('en_core_web_sm')"
   ]
  },
  {
   "cell_type": "code",
   "execution_count": 2,
   "metadata": {
    "colab": {
     "base_uri": "https://localhost:8080/"
    },
    "id": "LwPK_VATDQLr",
    "outputId": "c8a05d0c-70e3-4aaa-cfbd-d51d48efcc31"
   },
   "outputs": [
    {
     "name": "stdout",
     "output_type": "stream",
     "text": [
      "{'everywhere', 'these', 'among', 'otherwise', 'every', 'much', 'such', 'am', 'themselves', 'toward', 'wherein', 'just', 'regarding', 'seem', 'please', 'off', '‘re', 'an', 'well', 'but', 'any', 'her', 'whenever', 'mine', 'beyond', 'i', '’d', 'twelve', 'another', 'because', 'eight', 'from', 'since', 'using', 'nine', 'one', 'down', '’ve', 'least', '’re', 'must', 'per', 'become', 'noone', 'used', 'whom', 'five', 'we', 'your', 'too', 'nowhere', 'made', 'their', 'more', 'next', 'almost', 'hers', 'before', 'n‘t', 'been', 'some', 'being', 'make', 'whereupon', 'me', 'n’t', 'anyone', 'across', 'last', 'other', 'give', 'never', 'latterly', 'none', 'herein', 'ours', 'wherever', 'might', '‘d', 'whereby', 'unless', 'put', 'still', 'he', 'out', 'throughout', 'no', \"'ve\", 'nor', 'here', 'yours', 'also', 'side', 'has', 'does', 'somewhere', 'whole', 'moreover', 'serious', 'front', 'have', 'further', 'they', 'a', 'against', 'really', 'who', \"'re\", 'did', 'therefore', 'seemed', 'becoming', 'if', 'yourself', 'would', 'all', 'so', 'both', 'my', 'could', 'with', 'herself', 'hence', 'hereby', 'though', 'many', 'behind', 'now', 'fifteen', 'will', 'whereas', 'ten', 'him', 'not', 'nevertheless', 'six', 'afterwards', 'show', 'bottom', 'back', 'whence', 'mostly', 'sometime', 'few', 'below', 'take', 'however', 'can', 'above', 'ourselves', 'hereupon', 'anything', 'several', 'why', 'after', 'whoever', 'while', 'own', '’s', 'thereupon', 'to', 'meanwhile', 'during', 'third', 'about', 'had', 'three', 'what', 'somehow', 'us', 'its', 'latter', 'on', 'or', 'therein', 'get', 'became', 'onto', 'whose', 'always', 'something', 'it', 'thence', 'elsewhere', 'call', 'amount', 'due', 'how', 'was', 'say', 're', 'very', '’ll', 'be', 'as', 'is', 'there', '‘ve', 'are', 'anyway', 'twenty', 'indeed', 'whereafter', 'neither', 'becomes', '’m', 'formerly', 'ca', 'go', 'anyhow', 'only', 'sixty', 'nobody', 'various', 'name', 'without', '‘m', '‘s', 'those', 'until', 'anywhere', 'already', 'doing', 'eleven', 'than', 'namely', 'enough', 'via', 'within', 'each', 'fifty', 'forty', 'first', 'same', 'part', 'else', 'into', 'seems', 'often', 'thereafter', 'of', 'either', 'up', 'hundred', 'at', '‘ll', 'then', 'under', 'see', 'amongst', 'thereby', 'in', 'empty', 'most', 'itself', 'cannot', 'myself', 'should', 'towards', 'over', \"'m\", 'seeming', \"'ll\", 'you', 'everyone', 'himself', 'top', 'the', 'besides', 'that', 'done', 'whatever', 'his', 'them', 'quite', 'yet', 'even', 'along', 'two', 'when', 'around', 'full', 'again', 'between', \"'d\", 'and', \"n't\", 'do', 'everything', 'thus', 'she', 'where', 'thru', 'together', 'this', 'four', 'move', 'may', 'alone', 'which', 'nothing', 'someone', 'yourselves', 'our', 'whether', 'ever', 'upon', 'although', 'others', 'beforehand', 'once', 'sometimes', 'for', 'rather', \"'s\", 'less', 'through', 'by', 'perhaps', 'whither', 'beside', 'keep', 'hereafter', 'were', 'except', 'former'}\n"
     ]
    }
   ],
   "source": [
    "sw_spacy = en.Defaults.stop_words\n",
    "print(sw_spacy)"
   ]
  },
  {
   "cell_type": "code",
   "execution_count": 3,
   "metadata": {
    "colab": {
     "base_uri": "https://localhost:8080/"
    },
    "id": "KR1fnKBlDyio",
    "outputId": "0ab2e5c1-31d4-422e-80d6-49ea74061cf6"
   },
   "outputs": [
    {
     "name": "stdout",
     "output_type": "stream",
     "text": [
      "326\n"
     ]
    }
   ],
   "source": [
    "print(len(sw_spacy))"
   ]
  },
  {
   "cell_type": "code",
   "execution_count": 4,
   "metadata": {
    "colab": {
     "base_uri": "https://localhost:8080/"
    },
    "id": "V9PCSuI9JgZ1",
    "outputId": "c577c56f-4acd-442a-fe44-03a047bf697d"
   },
   "outputs": [
    {
     "data": {
      "text/plain": [
       "['tok2vec', 'tagger', 'parser', 'attribute_ruler', 'lemmatizer', 'ner']"
      ]
     },
     "execution_count": 4,
     "metadata": {},
     "output_type": "execute_result"
    }
   ],
   "source": [
    "\n",
    "en.pipe_names"
   ]
  },
  {
   "cell_type": "code",
   "execution_count": 5,
   "metadata": {
    "colab": {
     "base_uri": "https://localhost:8080/"
    },
    "id": "zcpnMHr-DyyU",
    "outputId": "34b071c8-a760-4930-c140-1bcdd5827583"
   },
   "outputs": [
    {
     "name": "stdout",
     "output_type": "stream",
     "text": [
      "I\n",
      "am\n",
      "amutha\n",
      "/\n",
      "NLP\n",
      "course\n",
      "Teacher\n",
      "..\n"
     ]
    }
   ],
   "source": [
    "\n",
    "nlp = spacy.blank(\"en\")\n",
    "\n",
    "doc = nlp(\"I am amutha/NLP course Teacher ..\")\n",
    "for token in doc:\n",
    "\tprint(token)\n",
    "\n",
    "\n",
    "\n"
   ]
  },
  {
   "cell_type": "code",
   "execution_count": 6,
   "metadata": {
    "colab": {
     "base_uri": "https://localhost:8080/"
    },
    "id": "SnrAtFcUIHOk",
    "outputId": "65a9e0bc-d1d3-451f-ee93-d36914814565"
   },
   "outputs": [
    {
     "name": "stdout",
     "output_type": "stream",
     "text": [
      "I\n",
      "am\n",
      "amutha/.NLP\n",
      "course\n",
      "Teacher\n",
      "!\n"
     ]
    }
   ],
   "source": [
    "doc1 = nlp(\"I am amutha/.NLP course Teacher!\")\n",
    "for tokens in doc1:\n",
    "\tprint(tokens)"
   ]
  },
  {
   "cell_type": "code",
   "execution_count": 7,
   "metadata": {
    "id": "rNpy5ks5IWnw"
   },
   "outputs": [],
   "source": [
    "import spacy\n",
    "\n",
    "nlp = spacy.load('en_core_web_sm')\n",
    "\n",
    "sentence = \"ccomputational linguistics naturllanguafe\"\n",
    "\n",
    "doc = nlp(sentence)\n",
    "\n",
    "for ent in doc.ents:\n",
    "\tprint(ent.text, ent.start_char, ent.end_char, ent.label_)\n",
    "\n"
   ]
  },
  {
   "cell_type": "code",
   "execution_count": 8,
   "metadata": {
    "colab": {
     "base_uri": "https://localhost:8080/"
    },
    "id": "o8yQlzmo1BH_",
    "outputId": "b7b20bd7-a4fa-4294-f038-c98fdf187c06"
   },
   "outputs": [
    {
     "name": "stdout",
     "output_type": "stream",
     "text": [
      "Narendra PERSON\n",
      "Modi PERSON\n",
      "visited \n",
      "the \n",
      "government \n",
      "headquarters \n",
      "in \n",
      "France GPE\n",
      "today DATE\n"
     ]
    }
   ],
   "source": [
    "sent_0 = nlp(u'Narendra Modi visited the government headquarters in France today')\n",
    "for token in sent_0:\n",
    "    print(token.text, token.ent_type_)"
   ]
  },
  {
   "cell_type": "code",
   "execution_count": 9,
   "metadata": {
    "colab": {
     "base_uri": "https://localhost:8080/"
    },
    "id": "XC1HrBZK2Ikw",
    "outputId": "da01bfe1-e55e-4c6f-d99f-cc840b349b8c"
   },
   "outputs": [
    {
     "name": "stdout",
     "output_type": "stream",
     "text": [
      "Narendra Modi PERSON\n",
      "France GPE\n",
      "today DATE\n"
     ]
    }
   ],
   "source": [
    "\n",
    "# spaCy intends us to access the entities in the doc.ents streamable object to get only the entities\n",
    "for ent in sent_0.ents:\n",
    "    print(ent.text, ent.label_)"
   ]
  },
  {
   "cell_type": "code",
   "execution_count": 10,
   "metadata": {
    "colab": {
     "base_uri": "https://localhost:8080/"
    },
    "id": "tL61Fc8n2PDf",
    "outputId": "ff68874f-1b3d-4d83-f0ec-7cb091c24cac"
   },
   "outputs": [
    {
     "name": "stdout",
     "output_type": "stream",
     "text": [
      "Narendra Modi PERSON\n",
      "France GPE\n",
      "today DATE\n"
     ]
    }
   ],
   "source": [
    "\n",
    "# spaCy intends us to access the entities in the doc.ents streamable object to get only the entities\n",
    "for ent in sent_0.ents:\n",
    "    print(ent.text, ent.label_)"
   ]
  },
  {
   "cell_type": "code",
   "execution_count": 11,
   "metadata": {
    "colab": {
     "base_uri": "https://localhost:8080/",
     "height": 35
    },
    "id": "bL_DjKoW2SQH",
    "outputId": "0ef1a284-a99a-417a-b669-b4ee3a777b22"
   },
   "outputs": [
    {
     "data": {
      "text/plain": [
       "'Nationalities or religious or political groups'"
      ]
     },
     "execution_count": 11,
     "metadata": {},
     "output_type": "execute_result"
    }
   ],
   "source": [
    "spacy.explain('NORP')"
   ]
  },
  {
   "cell_type": "code",
   "execution_count": 12,
   "metadata": {
    "colab": {
     "base_uri": "https://localhost:8080/",
     "height": 35
    },
    "id": "CejflzqH2VXk",
    "outputId": "68e1af9b-bdc4-4684-a6ff-2fb84da862a2"
   },
   "outputs": [
    {
     "data": {
      "text/plain": [
       "'\"first\", \"second\", etc.'"
      ]
     },
     "execution_count": 12,
     "metadata": {},
     "output_type": "execute_result"
    }
   ],
   "source": [
    "\n",
    "spacy.explain('ORDINAL')"
   ]
  },
  {
   "cell_type": "code",
   "execution_count": 13,
   "metadata": {
    "colab": {
     "base_uri": "https://localhost:8080/"
    },
    "id": "d1uj21592YS9",
    "outputId": "4201e236-4dae-48bb-b2b6-7e6622ac69cf",
    "scrolled": true
   },
   "outputs": [
    {
     "name": "stdout",
     "output_type": "stream",
     "text": [
      "Narendra Modi PERSON\n",
      "France GPE\n",
      "today DATE\n"
     ]
    }
   ],
   "source": [
    "for ent in sent_0.ents:\n",
    "    print(ent.text, ent.label_)"
   ]
  },
  {
   "cell_type": "code",
   "execution_count": null,
   "metadata": {},
   "outputs": [],
   "source": []
  },
  {
   "cell_type": "code",
   "execution_count": null,
   "metadata": {},
   "outputs": [],
   "source": []
  }
 ],
 "metadata": {
  "colab": {
   "provenance": []
  },
  "kernelspec": {
   "display_name": "Python 3 (ipykernel)",
   "language": "python",
   "name": "python3"
  },
  "language_info": {
   "codemirror_mode": {
    "name": "ipython",
    "version": 3
   },
   "file_extension": ".py",
   "mimetype": "text/x-python",
   "name": "python",
   "nbconvert_exporter": "python",
   "pygments_lexer": "ipython3",
   "version": "3.8.10"
  }
 },
 "nbformat": 4,
 "nbformat_minor": 1
}
