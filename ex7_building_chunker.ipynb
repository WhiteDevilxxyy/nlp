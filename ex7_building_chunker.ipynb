{
  "nbformat": 4,
  "nbformat_minor": 0,
  "metadata": {
    "colab": {
      "provenance": []
    },
    "kernelspec": {
      "name": "python3",
      "display_name": "Python 3"
    },
    "language_info": {
      "name": "python"
    }
  },
  "cells": [
    {
      "cell_type": "code",
      "execution_count": null,
      "metadata": {
        "colab": {
          "base_uri": "https://localhost:8080/"
        },
        "id": "SPUUVBiT5RGO",
        "outputId": "f955f74e-6db5-4952-f66d-c561b092bea5"
      },
      "outputs": [
        {
          "output_type": "stream",
          "name": "stdout",
          "text": [
            "(S\n",
            "  (NP The/DT small/JJ red/JJ flower/NN)\n",
            "  flew/VBD\n",
            "  through/IN\n",
            "  (NP the/DT window/NN))\n"
          ]
        }
      ],
      "source": [
        "import nltk\n",
        "sentence =[(\"The\", \"DT\"), (\"small\", \"JJ\"),\n",
        " (\"red\", \"JJ\"),(\"flower\", \"NN\"),\n",
        "(\"flew\", \"VBD\"), (\"through\", \"IN\"),\n",
        " (\"the\", \"DT\"), (\"window\", \"NN\")]\n",
        "grammar = \"NP: {<DT>?<JJ>*<NN>}\"\n",
        "cp = nltk.RegexpParser(grammar)\n",
        "result = cp.parse(sentence)\n",
        "print(result)"
      ]
    },
    {
      "cell_type": "code",
      "source": [],
      "metadata": {
        "id": "bzHSnPvi-Hzn"
      },
      "execution_count": null,
      "outputs": []
    },
    {
      "cell_type": "code",
      "source": [],
      "metadata": {
        "id": "YXtcdpCt84Ig"
      },
      "execution_count": null,
      "outputs": []
    }
  ]
}